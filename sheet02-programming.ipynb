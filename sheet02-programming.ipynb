{
 "cells": [
  {
   "cell_type": "markdown",
   "metadata": {},
   "source": [
    "# Maximum Likelihood Parameter Estimation\n",
    "\n",
    "In this first exercise, we would like to use the maximum-likelihood method to estimate the best parameter of a data density model $p(x|\\theta)$ with respect to some dataset $\\mathcal{D} = (x_1,\\dots,x_N)$, and use that approach to build a classifier. Assuming the data is generated independently and identically distributed (iid.), the dataset likelihood is given by\n",
    "$$\n",
    "p(\\mathcal{D}|\\theta) = \\prod_{k=1}^N p(x_k|\\theta)\n",
    "$$\n",
    "and the maximum likelihood solutionss is then computed as\n",
    "\\begin{align*}\n",
    "\\hat{\\theta}\n",
    "&= \\text{arg}\\max_\\theta ~ p(\\mathcal{D}|\\theta)\\\\\n",
    "&= \\text{arg}\\max_\\theta ~ \\log p(\\mathcal{D}|\\theta)\n",
    "\\end{align*}\n",
    "where the log term can also be expressed as a sum, i.e.\n",
    "$$\n",
    "\\log p(\\mathcal{D}|\\theta) = \\sum_{k=1}^N \\log p(x_k|\\theta).\n",
    "$$\n",
    "As a first step, we load some useful libraries for numerical computations and plotting."
   ]
  },
  {
   "cell_type": "code",
   "execution_count": 1,
   "metadata": {
    "execution": {
     "iopub.execute_input": "2022-10-20T14:58:14.245622Z",
     "iopub.status.busy": "2022-10-20T14:58:14.245158Z",
     "iopub.status.idle": "2022-10-20T14:58:14.256772Z",
     "shell.execute_reply": "2022-10-20T14:58:14.255803Z"
    }
   },
   "outputs": [],
   "source": [
    "import numpy as np\n",
    "import matplotlib\n",
    "%matplotlib inline\n",
    "from matplotlib import pyplot as plt\n",
    "na = np.newaxis"
   ]
  },
  {
   "cell_type": "markdown",
   "metadata": {},
   "source": [
    "We now consider the univariate data density model \n",
    "\n",
    "$$\n",
    "p(x|\\theta) = \\frac1\\pi \\frac{1}{1+(x-\\theta)^2}\n",
    "$$\n",
    "\n",
    "also known as the Cauchy distribution with fixed parameter $\\gamma=1$, and with parameter $\\theta$ unknown. Compared to the Gaussian distribution, the Cauchy distribution is heavy-tailed, and this can be useful to handle the presence of outliers in the data generation process. The probability density function is implemented below."
   ]
  },
  {
   "cell_type": "code",
   "execution_count": 2,
   "metadata": {
    "execution": {
     "iopub.execute_input": "2022-10-20T14:58:14.260365Z",
     "iopub.status.busy": "2022-10-20T14:58:14.260093Z",
     "iopub.status.idle": "2022-10-20T14:58:14.263620Z",
     "shell.execute_reply": "2022-10-20T14:58:14.263021Z"
    }
   },
   "outputs": [],
   "source": [
    "def pdf(X,THETA):\n",
    "    return (1.0 / np.pi) * (1.0 / (1+(X-THETA)**2))"
   ]
  },
  {
   "cell_type": "markdown",
   "metadata": {},
   "source": [
    "Note that the function can be called with scalars or with numpy arrays, and if feeding arrays of different shape, numpy broadcasting rules will apply. Our first step will be to implement a function that estimates the optimal parameter $\\hat{\\theta}$ in the maximum likelihood sense for some dataset $\\mathcal{D}$.\n",
    "\n",
    "**Task (10 P):**\n",
    "\n",
    "* **Implement a function that takes a dataset $\\mathcal{D}$ as input (given as one-dimensional array of numbers) and a list of candidate parameters $\\theta$ (also given as a one-dimensional array), and returns a one-dimensional array containing the log-likelihood w.r.t. the dataset $\\mathcal{D}$ for each parameter $\\theta$.**"
   ]
  },
  {
   "cell_type": "code",
   "execution_count": 3,
   "metadata": {
    "execution": {
     "iopub.execute_input": "2022-10-20T14:58:14.266977Z",
     "iopub.status.busy": "2022-10-20T14:58:14.266716Z",
     "iopub.status.idle": "2022-10-20T14:58:14.269929Z",
     "shell.execute_reply": "2022-10-20T14:58:14.269357Z"
    }
   },
   "outputs": [],
   "source": [
    "def ll(D,THETA):# for each THETA the log(P(D|theta))\n",
    "    result=[]\n",
    "    for t in THETA:\n",
    "        summe=0\n",
    "        for x in D:\n",
    "            summe+=np.log(pdf(x,t))\n",
    "        result.append(summe)\n",
    "    return result\n",
    "    \n",
    "    import solutions; return solutions.ll(D,THETA)\n",
    "    "
   ]
  },
  {
   "cell_type": "markdown",
   "metadata": {},
   "source": [
    "To test the method, we apply it to some dataset, and plot the log-likelihood for some plausible range of parameters $\\theta$."
   ]
  },
  {
   "cell_type": "code",
   "execution_count": 4,
   "metadata": {
    "execution": {
     "iopub.execute_input": "2022-10-20T14:58:14.273139Z",
     "iopub.status.busy": "2022-10-20T14:58:14.272828Z",
     "iopub.status.idle": "2022-10-20T14:58:14.643395Z",
     "shell.execute_reply": "2022-10-20T14:58:14.642121Z"
    }
   },
   "outputs": [
    {
     "data": {
      "image/png": "[encoded data removed]",
      "text/plain": [
       "<Figure size 432x288 with 1 Axes>"
      ]
     },
     "metadata": {
      "needs_background": "light"
     },
     "output_type": "display_data"
    }
   ],
   "source": [
    "D = np.array([ 2.803, -1.563, -0.853,  2.212, -0.334,  2.503])\n",
    "\n",
    "THETA = np.linspace(-10,10,1001)\n",
    "ll(D,THETA)\n",
    "\n",
    "plt.grid(True)\n",
    "plt.plot(THETA,ll(D,THETA))\n",
    "\n",
    "plt.xlabel(r'$\\theta$')\n",
    "plt.ylabel(r'$\\log p(\\mathcal{D}|\\theta)$')\n",
    "plt.show()\n",
    "\n"
   ]
  },
  {
   "cell_type": "markdown",
   "metadata": {},
   "source": [
    "We observe that the likelihood has two peaks: one around $\\theta=-0.5$ and one around $\\theta=2$. However, the highest peak is the second one, hence, the second peak is retained as a maximum likelihood solution."
   ]
  },
  {
   "cell_type": "markdown",
   "metadata": {},
   "source": [
    "### Building a Classifier\n",
    "\n",
    "We now would like to use the maximum likelihood technique to build a classifier. We consider a labeled dataset where the data associated to the two classes are given by:"
   ]
  },
  {
   "cell_type": "code",
   "execution_count": 5,
   "metadata": {
    "execution": {
     "iopub.execute_input": "2022-10-20T14:58:14.702649Z",
     "iopub.status.busy": "2022-10-20T14:58:14.701824Z",
     "iopub.status.idle": "2022-10-20T14:58:14.725102Z",
     "shell.execute_reply": "2022-10-20T14:58:14.721487Z"
    }
   },
   "outputs": [],
   "source": [
    "D1 = np.array([ 2.803, -1.563, -0.853,  2.212, -0.334,  2.503])\n",
    "D2 = np.array([-4.510, -3.316, -3.050, -3.108, -2.315])\n"
   ]
  },
  {
   "cell_type": "markdown",
   "metadata": {},
   "source": [
    "To be able to classify new data points, we consider the discriminant function\n",
    "\n",
    "$$\n",
    "g(x) = \\log P(x|\\hat{\\theta}_1) -  \\log P(x|\\hat{\\theta}_2) + \\log P(\\omega_1) - \\log P(\\omega_2)\n",
    "$$\n",
    "\n",
    "were the first two terms can be computed based on our maximum likelihood estimates, and where the last two terms are the prior probabilities. The function $g(x)$ produces the decision $\\omega_1$ if $g(x) > 0$ and $\\omega_2$ if $g(x) < 0$. We would like to implement a maximum-likelihood based classifier.\n",
    "\n",
    "**Tasks (10 P):**\n",
    "\n",
    "* **Implement the function `fit` that receives as input a vector of candidate parameters $\\theta$ and the dataset associated to each class, and produces the maximum likelihood parameter estimates.** *(Hint: from your function `fit`, you can call the function `ll` you have previously implemented.)*\n",
    "\n",
    "\n",
    "* **Implement the function `predict` that takes as input the prior probability for each class and a vector of points X on which to evaluate the discriminant function, and that outputs a vector containing the value of $g$ for each point in X.**"
   ]
  },
  {
   "cell_type": "code",
   "execution_count": 6,
   "metadata": {
    "execution": {
     "iopub.execute_input": "2022-10-20T14:58:14.736334Z",
     "iopub.status.busy": "2022-10-20T14:58:14.735591Z",
     "iopub.status.idle": "2022-10-20T14:58:14.750137Z",
     "shell.execute_reply": "2022-10-20T14:58:14.747790Z"
    }
   },
   "outputs": [],
   "source": [
    "class MLClassifier:\n",
    "    \n",
    "    def fit(self,THETA,D1,D2):\n",
    "        max1=np.argmax(ll(D1,THETA))        \n",
    "        max2=np.argmax(ll(D2,THETA))\n",
    "        theta1=THETA[max1]\n",
    "        theta2=THETA[max2]\n",
    "        return theta1,theta2\n",
    "    \n",
    "        import solutions\n",
    "        self.theta1,self.theta2 = solutions.fit(THETA,D1,D2)\n",
    "        # --------------------------------------\n",
    "        \n",
    "    def predict(self,X,p1,p2):\n",
    "        Theta1,Theta2=self.fit(THETA,D1,D2)\n",
    "        g=np.log(pdf(X,Theta1))-np.log(pdf(X,Theta2))+p1-p2\n",
    "        return g\n",
    "        return solutions.predict(self.theta1,self.theta2,X,p1,p2)\n",
    "        # --------------------------------------"
   ]
  },
  {
   "cell_type": "markdown",
   "metadata": {},
   "source": [
    "Once these two functions have been implemented, the maximum likelihood classifier can be applied to our labeled data, and the decision function it implements can be visualized."
   ]
  },
  {
   "cell_type": "code",
   "execution_count": 7,
   "metadata": {
    "execution": {
     "iopub.execute_input": "2022-10-20T14:58:14.764317Z",
     "iopub.status.busy": "2022-10-20T14:58:14.762845Z",
     "iopub.status.idle": "2022-10-20T14:58:15.256564Z",
     "shell.execute_reply": "2022-10-20T14:58:15.255856Z"
    }
   },
   "outputs": [
    {
     "data": {
      "image/png": "[encoded data removed]",
      "text/plain": [
       "<Figure size 432x288 with 1 Axes>"
      ]
     },
     "metadata": {
      "needs_background": "light"
     },
     "output_type": "display_data"
    }
   ],
   "source": [
    "X = np.linspace(-10,10,1001)\n",
    "\n",
    "plt.grid(True)\n",
    "\n",
    "mlcl = MLClassifier()\n",
    "mlcl.fit(THETA,D1,D2)\n",
    "\n",
    "plt.plot(X,mlcl.predict(X,0.5,0.5))\n",
    "plt.plot(X,0*X,color='black',ls='dotted')\n",
    "\n",
    "plt.xlabel(r'$x$')\n",
    "plt.ylabel(r'$g(x)$')\n",
    "\n",
    "for d1 in D1: plt.plot([d1,d1],[0,+0.5],color='black')\n",
    "for d2 in D2: plt.plot([d2,d2],[0,-0.5],color='black')"
   ]
  },
  {
   "cell_type": "markdown",
   "metadata": {},
   "source": [
    "Here, we observe that the model essentially learns a threshold classifier with threshold approximately $-0.5$. However, we note that the threshold seems to be too high to properly classify the data. One reason for this is the fact that maximum likelihood estimate retains only the best parameter. Here, the model for the first class focuses mainly on the peak at $x=2$ and treat examples $x < 0$ as outliers, without considering the possibility that the peak at $\\theta=2$ might actually be the outlier."
   ]
  },
  {
   "cell_type": "markdown",
   "metadata": {},
   "source": [
    "# Bayes Parameter Estimation\n",
    "\n",
    "Let us now bypass the computation of a maximum likelihood estimate of parameters and adopt instead a full Bayesian approach. We will consider the same data density model and datasets as in the maximum likelihood exercise but we include now a prior distribution over the parameters. Specifically, we set for both classes the prior distribution:\n",
    "\n",
    "$$\n",
    "p(\\theta) = \\frac{1}{10\\pi} \\frac{1}{1+(\\theta/10)^2}\n",
    "$$\n",
    "\n",
    "Given a dataset $\\mathcal{D}$, the posterior distribution for the unknown parameter $\\theta$ can then be obtained from the Bayes rule:\n",
    "\n",
    "$$\n",
    "p(\\theta | \\mathcal{D}) = \\frac{p(\\mathcal{D} | \\theta)p(\\theta)}{\\int p(\\mathcal{D} | \\theta)p(\\theta) d\\theta}\n",
    "$$\n",
    "\n",
    "The integration can be performed numerically using the trapezoidal rule."
   ]
  },
  {
   "cell_type": "markdown",
   "metadata": {},
   "source": [
    "**Task (10 P):**\n",
    "\n",
    "* **Implement the prior and posterior functions below. These function receive as input a vector of parameters $\\theta$ (assumed to be sorted from smallest to largest, linearly spaced, and covering the range of values where most of the probability mass lies). The posterior function also receive a dataset $\\mathcal{D}$ as input. Both functions return a vector containing the probability scores associated to each value of $\\theta$.**"
   ]
  },
  {
   "cell_type": "code",
   "execution_count": 13,
   "metadata": {
    "execution": {
     "iopub.execute_input": "2022-10-20T14:58:15.260880Z",
     "iopub.status.busy": "2022-10-20T14:58:15.260596Z",
     "iopub.status.idle": "2022-10-20T14:58:15.265253Z",
     "shell.execute_reply": "2022-10-20T14:58:15.264347Z"
    }
   },
   "outputs": [],
   "source": [
    "def prior(THETA):\n",
    "    return (1/(10*np.pi))*(1/(1+(THETA/10)**2))\n",
    "\n",
    "  \n",
    "    import solutions; return solutions.prior(THETA)\n",
    "    # --------------------------------------\n",
    "\n",
    "def posterior(D,THETA):\n",
    "    result=[]\n",
    "    for t in THETA:\n",
    "        product=1\n",
    "        for x in D:\n",
    "            product*=pdf(x,t)\n",
    "        result.append(product)\n",
    "    result1=result*prior(THETA)\n",
    "    return result1/sum(result1*0.019998)\n",
    "   \n",
    "    import solutions; return solutions.posterior(D,THETA)\n",
    "    # --------------------------------------\n"
   ]
  },
  {
   "cell_type": "markdown",
   "metadata": {},
   "source": [
    "To verify the implementation of the two functions, we apply them to the dataset $\\mathcal{D}$ defined above and with a broad range of parameters $\\theta$."
   ]
  },
  {
   "cell_type": "code",
   "execution_count": 9,
   "metadata": {
    "execution": {
     "iopub.execute_input": "2022-10-20T14:58:15.268844Z",
     "iopub.status.busy": "2022-10-20T14:58:15.268549Z",
     "iopub.status.idle": "2022-10-20T14:58:15.489178Z",
     "shell.execute_reply": "2022-10-20T14:58:15.488564Z"
    }
   },
   "outputs": [
    {
     "data": {
      "image/png": "[encoded data removed]",
      "text/plain": [
       "<Figure size 432x288 with 1 Axes>"
      ]
     },
     "metadata": {
      "needs_background": "light"
     },
     "output_type": "display_data"
    }
   ],
   "source": [
    "THETA = np.linspace(-100,100,10001)\n",
    "\n",
    "plt.grid(True)\n",
    "plt.plot(THETA,np.log(prior(THETA)),label=r'$p(\\theta)$')\n",
    "plt.plot(THETA,np.log(posterior(D,THETA)),label=r'$p(\\theta|\\mathcal{D})$')\n",
    "plt.legend(); plt.xlabel(r'$\\theta$'); plt.show()"
   ]
  },
  {
   "cell_type": "markdown",
   "metadata": {},
   "source": [
    "We observe that the posterior distribution is more concentrated to the specific values of the parameter that explain the dataset well. In particular, we observe the same two peaks around $\\theta=-0.5$ and $\\theta=2$ observed in the maximum likelihood exercise."
   ]
  },
  {
   "cell_type": "markdown",
   "metadata": {},
   "source": [
    "### Building a Classifier\n",
    "\n",
    "We now would like to build a Bayes classifier based on the discriminant function\n",
    "\n",
    "$$\n",
    "h(x) = \\log P(x|\\mathcal{D}_1) -  \\log P(x|\\mathcal{D}_2) + \\log P(\\omega_1) - \\log P(\\omega_2)\n",
    "$$\n",
    "\n",
    "where the dataset-conditioned densities are obtained from the original data density model and the parameter posterior as\n",
    "\n",
    "$$\n",
    "p(x|\\mathcal{D}_j) = \\int p(x|\\theta) p(\\theta|\\mathcal{D}_j) d\\theta\n",
    "$$\n",
    "\n",
    "**Tasks (10 P):**\n",
    "\n",
    "* **Implement a function `fit` that produces the parameter posteriors $p(\\theta|\\mathcal{D}_1)$ and $p(\\theta|\\mathcal{D}_2)$.**\n",
    "* **Implement a function `predict` computing the new discriminant function $h$ based on the dataset-conditioned data densities.**"
   ]
  },
  {
   "cell_type": "code",
   "execution_count": 11,
   "metadata": {
    "execution": {
     "iopub.execute_input": "2022-10-20T14:58:15.492763Z",
     "iopub.status.busy": "2022-10-20T14:58:15.492468Z",
     "iopub.status.idle": "2022-10-20T14:58:15.497170Z",
     "shell.execute_reply": "2022-10-20T14:58:15.496567Z"
    }
   },
   "outputs": [],
   "source": [
    "class BayesClassifier:\n",
    "    \n",
    "    def fit(self,THETA,D1,D2):\n",
    "        a=posterior(D1,THETA)*prior(THETA)\n",
    "        aa=sum(a)\n",
    "        b=posterior(D2,THETA)*prior(THETA)\n",
    "        bb=sum(b)\n",
    "        return posterior(D1,THETA),posterior(D2,THETA)\n",
    "        \n",
    "        import solutions\n",
    "        self.THETA,self.post1,self.post2 = solutions.fitBayes(THETA,D1,D2)\n",
    "        # --------------------------------------\n",
    "        \n",
    "    def predict(self,X,p1,p2):\n",
    "        return np.log(sum(pdf(X,THETA)*posterior(D1,THETA)*0.019998))-np.log(sum(pdf(X,THETA)*posterior(D2,THETA)*0.019998))+np.log(p1)-np.log(p2)\n",
    "       \n",
    "        import solutions\n",
    "        return solutions.predictBayes(self.THETA,self.post1,self.post2,X,p1,p2)\n",
    "\n",
    "   "
   ]
  },
  {
   "cell_type": "markdown",
   "metadata": {},
   "source": [
    "We note that the function `predict` is computationally more expensive than the one for maximum likelihood since it involves computing an integral for each point to be predicted.\n",
    "\n",
    "However, the quality of the prediction also differs compared to that of the maximum likelihood method. In the plot below, we compare the ML and Bayes approaches."
   ]
  },
  {
   "cell_type": "code",
   "execution_count": 12,
   "metadata": {
    "execution": {
     "iopub.execute_input": "2022-10-20T14:58:15.501058Z",
     "iopub.status.busy": "2022-10-20T14:58:15.500758Z",
     "iopub.status.idle": "2022-10-20T14:58:16.146298Z",
     "shell.execute_reply": "2022-10-20T14:58:16.145262Z"
    }
   },
   "outputs": [
    {
     "ename": "ValueError",
     "evalue": "operands could not be broadcast together with shapes (1001,) (10001,) ",
     "output_type": "error",
     "traceback": [
      "\u001b[1;31m---------------------------------------------------------------------------\u001b[0m",
      "\u001b[1;31mValueError\u001b[0m                                Traceback (most recent call last)",
      "\u001b[1;32m<ipython-input-12-22f938e5e572>\u001b[0m in \u001b[0;36m<module>\u001b[1;34m\u001b[0m\n\u001b[0;32m      6\u001b[0m \u001b[0mplt\u001b[0m\u001b[1;33m.\u001b[0m\u001b[0mgrid\u001b[0m\u001b[1;33m(\u001b[0m\u001b[1;32mTrue\u001b[0m\u001b[1;33m)\u001b[0m\u001b[1;33m\u001b[0m\u001b[1;33m\u001b[0m\u001b[0m\n\u001b[0;32m      7\u001b[0m \u001b[0mplt\u001b[0m\u001b[1;33m.\u001b[0m\u001b[0mplot\u001b[0m\u001b[1;33m(\u001b[0m\u001b[0mX\u001b[0m\u001b[1;33m,\u001b[0m\u001b[0mmlcl\u001b[0m\u001b[1;33m.\u001b[0m\u001b[0mpredict\u001b[0m\u001b[1;33m(\u001b[0m\u001b[0mX\u001b[0m\u001b[1;33m,\u001b[0m\u001b[1;36m0.5\u001b[0m\u001b[1;33m,\u001b[0m\u001b[1;36m0.5\u001b[0m\u001b[1;33m)\u001b[0m\u001b[1;33m,\u001b[0m\u001b[0mlabel\u001b[0m\u001b[1;33m=\u001b[0m\u001b[1;34m'ML'\u001b[0m\u001b[1;33m)\u001b[0m\u001b[1;33m\u001b[0m\u001b[1;33m\u001b[0m\u001b[0m\n\u001b[1;32m----> 8\u001b[1;33m \u001b[0mplt\u001b[0m\u001b[1;33m.\u001b[0m\u001b[0mplot\u001b[0m\u001b[1;33m(\u001b[0m\u001b[0mX\u001b[0m\u001b[1;33m,\u001b[0m\u001b[0mbacl\u001b[0m\u001b[1;33m.\u001b[0m\u001b[0mpredict\u001b[0m\u001b[1;33m(\u001b[0m\u001b[0mX\u001b[0m\u001b[1;33m,\u001b[0m\u001b[1;36m0.5\u001b[0m\u001b[1;33m,\u001b[0m\u001b[1;36m0.5\u001b[0m\u001b[1;33m)\u001b[0m\u001b[1;33m,\u001b[0m\u001b[0mlabel\u001b[0m\u001b[1;33m=\u001b[0m\u001b[1;34m'Bayes'\u001b[0m\u001b[1;33m)\u001b[0m\u001b[1;33m\u001b[0m\u001b[1;33m\u001b[0m\u001b[0m\n\u001b[0m\u001b[0;32m      9\u001b[0m \u001b[1;33m\u001b[0m\u001b[0m\n\u001b[0;32m     10\u001b[0m \u001b[0mplt\u001b[0m\u001b[1;33m.\u001b[0m\u001b[0mplot\u001b[0m\u001b[1;33m(\u001b[0m\u001b[0mX\u001b[0m\u001b[1;33m,\u001b[0m\u001b[1;36m0\u001b[0m\u001b[1;33m*\u001b[0m\u001b[0mX\u001b[0m\u001b[1;33m,\u001b[0m\u001b[0mcolor\u001b[0m\u001b[1;33m=\u001b[0m\u001b[1;34m'black'\u001b[0m\u001b[1;33m,\u001b[0m\u001b[0mls\u001b[0m\u001b[1;33m=\u001b[0m\u001b[1;34m'dotted'\u001b[0m\u001b[1;33m)\u001b[0m\u001b[1;33m\u001b[0m\u001b[1;33m\u001b[0m\u001b[0m\n",
      "\u001b[1;32m<ipython-input-11-d6efca09efe9>\u001b[0m in \u001b[0;36mpredict\u001b[1;34m(self, X, p1, p2)\u001b[0m\n\u001b[0;32m     13\u001b[0m \u001b[1;33m\u001b[0m\u001b[0m\n\u001b[0;32m     14\u001b[0m     \u001b[1;32mdef\u001b[0m \u001b[0mpredict\u001b[0m\u001b[1;33m(\u001b[0m\u001b[0mself\u001b[0m\u001b[1;33m,\u001b[0m\u001b[0mX\u001b[0m\u001b[1;33m,\u001b[0m\u001b[0mp1\u001b[0m\u001b[1;33m,\u001b[0m\u001b[0mp2\u001b[0m\u001b[1;33m)\u001b[0m\u001b[1;33m:\u001b[0m\u001b[1;33m\u001b[0m\u001b[1;33m\u001b[0m\u001b[0m\n\u001b[1;32m---> 15\u001b[1;33m         \u001b[1;32mreturn\u001b[0m \u001b[0mnp\u001b[0m\u001b[1;33m.\u001b[0m\u001b[0mlog\u001b[0m\u001b[1;33m(\u001b[0m\u001b[0msum\u001b[0m\u001b[1;33m(\u001b[0m\u001b[0mpdf\u001b[0m\u001b[1;33m(\u001b[0m\u001b[0mX\u001b[0m\u001b[1;33m,\u001b[0m\u001b[0mTHETA\u001b[0m\u001b[1;33m)\u001b[0m\u001b[1;33m*\u001b[0m\u001b[0mposterior\u001b[0m\u001b[1;33m(\u001b[0m\u001b[0mD1\u001b[0m\u001b[1;33m,\u001b[0m\u001b[0mTHETA\u001b[0m\u001b[1;33m)\u001b[0m\u001b[1;33m*\u001b[0m\u001b[1;36m0.019998\u001b[0m\u001b[1;33m)\u001b[0m\u001b[1;33m)\u001b[0m\u001b[1;33m-\u001b[0m\u001b[0mnp\u001b[0m\u001b[1;33m.\u001b[0m\u001b[0mlog\u001b[0m\u001b[1;33m(\u001b[0m\u001b[0msum\u001b[0m\u001b[1;33m(\u001b[0m\u001b[0mpdf\u001b[0m\u001b[1;33m(\u001b[0m\u001b[0mX\u001b[0m\u001b[1;33m,\u001b[0m\u001b[0mTHETA\u001b[0m\u001b[1;33m)\u001b[0m\u001b[1;33m*\u001b[0m\u001b[0mposterior\u001b[0m\u001b[1;33m(\u001b[0m\u001b[0mD2\u001b[0m\u001b[1;33m,\u001b[0m\u001b[0mTHETA\u001b[0m\u001b[1;33m)\u001b[0m\u001b[1;33m*\u001b[0m\u001b[1;36m0.019998\u001b[0m\u001b[1;33m)\u001b[0m\u001b[1;33m)\u001b[0m\u001b[1;33m+\u001b[0m\u001b[0mnp\u001b[0m\u001b[1;33m.\u001b[0m\u001b[0mlog\u001b[0m\u001b[1;33m(\u001b[0m\u001b[0mp1\u001b[0m\u001b[1;33m)\u001b[0m\u001b[1;33m-\u001b[0m\u001b[0mnp\u001b[0m\u001b[1;33m.\u001b[0m\u001b[0mlog\u001b[0m\u001b[1;33m(\u001b[0m\u001b[0mp2\u001b[0m\u001b[1;33m)\u001b[0m\u001b[1;33m\u001b[0m\u001b[1;33m\u001b[0m\u001b[0m\n\u001b[0m\u001b[0;32m     16\u001b[0m \u001b[1;33m\u001b[0m\u001b[0m\n\u001b[0;32m     17\u001b[0m         \u001b[1;32mimport\u001b[0m \u001b[0msolutions\u001b[0m\u001b[1;33m\u001b[0m\u001b[1;33m\u001b[0m\u001b[0m\n",
      "\u001b[1;32m<ipython-input-2-2cadfab8506a>\u001b[0m in \u001b[0;36mpdf\u001b[1;34m(X, THETA)\u001b[0m\n\u001b[0;32m      1\u001b[0m \u001b[1;32mdef\u001b[0m \u001b[0mpdf\u001b[0m\u001b[1;33m(\u001b[0m\u001b[0mX\u001b[0m\u001b[1;33m,\u001b[0m\u001b[0mTHETA\u001b[0m\u001b[1;33m)\u001b[0m\u001b[1;33m:\u001b[0m\u001b[1;33m\u001b[0m\u001b[1;33m\u001b[0m\u001b[0m\n\u001b[1;32m----> 2\u001b[1;33m     \u001b[1;32mreturn\u001b[0m \u001b[1;33m(\u001b[0m\u001b[1;36m1.0\u001b[0m \u001b[1;33m/\u001b[0m \u001b[0mnp\u001b[0m\u001b[1;33m.\u001b[0m\u001b[0mpi\u001b[0m\u001b[1;33m)\u001b[0m \u001b[1;33m*\u001b[0m \u001b[1;33m(\u001b[0m\u001b[1;36m1.0\u001b[0m \u001b[1;33m/\u001b[0m \u001b[1;33m(\u001b[0m\u001b[1;36m1\u001b[0m\u001b[1;33m+\u001b[0m\u001b[1;33m(\u001b[0m\u001b[0mX\u001b[0m\u001b[1;33m-\u001b[0m\u001b[0mTHETA\u001b[0m\u001b[1;33m)\u001b[0m\u001b[1;33m**\u001b[0m\u001b[1;36m2\u001b[0m\u001b[1;33m)\u001b[0m\u001b[1;33m)\u001b[0m\u001b[1;33m\u001b[0m\u001b[1;33m\u001b[0m\u001b[0m\n\u001b[0m",
      "\u001b[1;31mValueError\u001b[0m: operands could not be broadcast together with shapes (1001,) (10001,) "
     ]
    },
    {
     "data": {
      "image/png": "[encoded data removed]",
      "text/plain": [
       "<Figure size 432x288 with 1 Axes>"
      ]
     },
     "metadata": {
      "needs_background": "light"
     },
     "output_type": "display_data"
    }
   ],
   "source": [
    "X = np.linspace(-10,10,1001)\n",
    "\n",
    "bacl = BayesClassifier()\n",
    "bacl.fit(THETA,D1,D2)\n",
    "\n",
    "plt.grid(True)\n",
    "plt.plot(X,mlcl.predict(X,0.5,0.5),label='ML')\n",
    "plt.plot(X,bacl.predict(X,0.5,0.5),label='Bayes')\n",
    "\n",
    "plt.plot(X,0*X,color='black',ls='dotted')\n",
    "plt.xlabel(r'$x$'); plt.ylabel(r'$g(x)$')\n",
    "plt.legend()\n",
    "\n",
    "for d1 in D1: plt.plot([d1,d1],[0,+0.5],color='black')\n",
    "for d2 in D2: plt.plot([d2,d2],[0,-0.5],color='black')"
   ]
  },
  {
   "cell_type": "markdown",
   "metadata": {},
   "source": [
    "We observe that the Bayes classifier has generally lower output scores and its decision boundary has been noticeably shifted to the left, leading to better predictions for the current data. In this particular case, the difference between the two models can be explained by the fact that the Bayes one better integrates the possibility that negative examples for the first class are not necessarily outliers."
   ]
  }
 ],
 "metadata": {
  "kernelspec": {
   "display_name": "Python 3",
   "language": "python",
   "name": "python3"
  },
  "language_info": {
   "codemirror_mode": {
    "name": "ipython",
    "version": 3
   },
   "file_extension": ".py",
   "mimetype": "text/x-python",
   "name": "python",
   "nbconvert_exporter": "python",
   "pygments_lexer": "ipython3",
   "version": "3.8.8"
  },
  "vscode": {
   "interpreter": {
    "hash": "c857566fc90100924ec570749e710599fe2c59697f9b6ca760d7356c34b7d21f"
   }
  }
 },
 "nbformat": 4,
 "nbformat_minor": 1
}
